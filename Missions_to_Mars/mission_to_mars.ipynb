{
 "cells": [
  {
   "cell_type": "code",
   "execution_count": null,
   "metadata": {},
   "outputs": [],
   "source": [
    "# Dependencies\n",
    "from splinter import Browser\n",
    "import requests\n",
    "from splinter.exceptions import ElementDoesNotExist\n",
    "from bs4 import BeautifulSoup\n",
    "import os\n",
    "import pandas as pd\n",
    "from splinter import Browser\n",
    "import time"
   ]
  },
  {
   "cell_type": "code",
   "execution_count": null,
   "metadata": {},
   "outputs": [],
   "source": [
    "executable_path = {'executable_path': 'chromedriver.exe'}\n",
    "browser = Browser('chrome', **executable_path, headless=False)"
   ]
  },
  {
   "cell_type": "markdown",
   "metadata": {},
   "source": [
    "### latest news title and description"
   ]
  },
  {
   "cell_type": "code",
   "execution_count": null,
   "metadata": {},
   "outputs": [],
   "source": [
    "news_url = 'https://mars.nasa.gov/news/'\n",
    "browser.visit(news_url)"
   ]
  },
  {
   "cell_type": "code",
   "execution_count": null,
   "metadata": {},
   "outputs": [],
   "source": [
    "html =browser.html\n",
    "news_soup = BeautifulSoup(html, 'html.parser')\n"
   ]
  },
  {
   "cell_type": "code",
   "execution_count": null,
   "metadata": {
    "scrolled": false
   },
   "outputs": [],
   "source": [
    "print(news_soup.prettify())"
   ]
  },
  {
   "cell_type": "code",
   "execution_count": null,
   "metadata": {},
   "outputs": [],
   "source": [
    "# pull latest news title and paragrapgh\n",
    "slide_elem = news_soup.select_one('ul.item_list li.slide')\n",
    "title  = slide_elem.find('div', class_='content_title')\n",
    "\n",
    "paragraph  = slide_elem.find('div', class_='article_teaser_body')\n",
    "\n",
    "print('-----------------------------------------------------------------------------')\n",
    "print('News_title = '+title.text.strip())\n",
    "print('')\n",
    "print('News_p = '+paragraph.text.strip())\n",
    "print('-----------------------------------------------------------------------------')\n",
    "\n",
    "    \n",
    "\n",
    "\n"
   ]
  },
  {
   "cell_type": "markdown",
   "metadata": {},
   "source": [
    "### JPL Mars Space Images - Featured Image"
   ]
  },
  {
   "cell_type": "code",
   "execution_count": null,
   "metadata": {},
   "outputs": [],
   "source": [
    "# images\n",
    "image_url = 'https://www.jpl.nasa.gov/spaceimages/'\n",
    "browser.visit(image_url) \n"
   ]
  },
  {
   "cell_type": "code",
   "execution_count": null,
   "metadata": {},
   "outputs": [],
   "source": [
    "html =browser.html\n",
    "image_soup = BeautifulSoup(html, 'html.parser')"
   ]
  },
  {
   "cell_type": "code",
   "execution_count": null,
   "metadata": {},
   "outputs": [],
   "source": [
    "print(image_soup.prettify())"
   ]
  },
  {
   "cell_type": "code",
   "execution_count": null,
   "metadata": {},
   "outputs": [],
   "source": [
    "# Ask Splinter to Go to Site and Click Button with Class Name full_image\n",
    "# <button class=\"full_image\">Full Image</button>\n",
    "full_image_button = browser.find_by_id(\"full_image\")\n",
    "full_image_button.click()"
   ]
  },
  {
   "cell_type": "code",
   "execution_count": null,
   "metadata": {},
   "outputs": [],
   "source": [
    "# Find \"More Info\" Button and Click It\n",
    "browser.is_element_present_by_text(\"more info\", wait_time=1)\n",
    "more_info_element = browser.find_link_by_partial_text(\"more info\")\n",
    "more_info_element.click()"
   ]
  },
  {
   "cell_type": "code",
   "execution_count": null,
   "metadata": {},
   "outputs": [],
   "source": [
    "# Parse Results HTML with BeautifulSoup\n",
    "html = browser.html\n",
    "image_soup = BeautifulSoup(html, \"html.parser\")\n",
    "\n",
    "img_url = image_soup.select_one(\"figure.lede a img\").get(\"src\")\n",
    "\n",
    "print(f\"featured_image_url = https://www.jpl.nasa.gov{img_url}\")"
   ]
  },
  {
   "cell_type": "markdown",
   "metadata": {},
   "source": [
    "### Mars Weather"
   ]
  },
  {
   "cell_type": "code",
   "execution_count": null,
   "metadata": {},
   "outputs": [],
   "source": [
    "twitter_url = 'https://twitter.com/marswxreport?lang=en'\n"
   ]
  },
  {
   "cell_type": "code",
   "execution_count": null,
   "metadata": {},
   "outputs": [],
   "source": [
    "twitter_response = requests.get(twitter_url)\n",
    "twitter_soup = BeautifulSoup(twitter_response.text, 'lxml')"
   ]
  },
  {
   "cell_type": "code",
   "execution_count": null,
   "metadata": {},
   "outputs": [],
   "source": [
    "print(twitter_soup.prettify())"
   ]
  },
  {
   "cell_type": "code",
   "execution_count": null,
   "metadata": {},
   "outputs": [],
   "source": [
    "twitter_result = twitter_soup.find('div', class_='js-tweet-text-container')\n",
    "print(f\"mars_weather ={twitter_result.text.strip()}\")"
   ]
  },
  {
   "cell_type": "markdown",
   "metadata": {},
   "source": [
    "### Mars Facts"
   ]
  },
  {
   "cell_type": "code",
   "execution_count": null,
   "metadata": {},
   "outputs": [],
   "source": [
    "#   scrape the table containing facts about the planet including Diameter, Mass, etc\n",
    "space_data = pd.read_html('https://space-facts.com/mars/')[0]\n",
    "space_data.columns=['Description','Value']\n",
    "space_data.set_index(\"Description\",inplace=True)\n",
    "space_data.head()"
   ]
  },
  {
   "cell_type": "code",
   "execution_count": null,
   "metadata": {},
   "outputs": [],
   "source": [
    "# Export pandas df to html script\n",
    "marsfacts = space_data.to_html()\n",
    "marsfacts.replace(\"\\n\", \"\")\n",
    "space_data.to_html('marsfacts.html')"
   ]
  },
  {
   "cell_type": "markdown",
   "metadata": {},
   "source": [
    "### Mars Hemispheres"
   ]
  },
  {
   "cell_type": "code",
   "execution_count": null,
   "metadata": {},
   "outputs": [],
   "source": [
    "# Scrape astrogeology.usgs.gov for hemisphere image urls and titles\n",
    "hemisphere_url = 'https://astrogeology.usgs.gov/search/results?q=hemisphere+enhanced&k1=target&v1=Mars'\n",
    "browser.visit(hemisphere_url)\n",
    "\n",
    "hemisphere_html = browser.html\n",
    "hemisphere_soup = BeautifulSoup(hemisphere_html, 'lxml')\n",
    "base_url =\"https://astrogeology.usgs.gov\"\n",
    "\n",
    "image_list = hemisphere_soup.find_all('div', class_='item')\n",
    "\n",
    "# Create list to store dictionaries of data\n",
    "hemisphere_image_urls = []\n",
    "\n",
    "# Loop through each hemisphere and click on link to find large resolution image url\n",
    "for image in image_list:\n",
    "    hemisphere_dict = {}\n",
    "    \n",
    "    href = image.find('a', class_='itemLink product-item')\n",
    "    link = base_url + href['href']\n",
    "    browser.visit(link)\n",
    "    \n",
    "    time.sleep(1)\n",
    "    \n",
    "    hemisphere_html2 = browser.html\n",
    "    hemisphere_soup2 = BeautifulSoup(hemisphere_html2, 'lxml')\n",
    "    \n",
    "    img_title = hemisphere_soup2.find('div', class_='content').find('h2', class_='title').text\n",
    "    hemisphere_dict['title'] = img_title\n",
    "    \n",
    "    img_url = hemisphere_soup2.find('div', class_='downloads').find('a')['href']\n",
    "    hemisphere_dict['url_img'] = img_url\n",
    "    \n",
    "    # Append dictionary to list\n",
    "    hemisphere_image_urls.append(hemisphere_dict)\n",
    "      \n",
    "hemisphere_image_urls"
   ]
  },
  {
   "cell_type": "code",
   "execution_count": null,
   "metadata": {},
   "outputs": [],
   "source": []
  }
 ],
 "metadata": {
  "kernelspec": {
   "display_name": "Python 3",
   "language": "python",
   "name": "python3"
  },
  "language_info": {
   "codemirror_mode": {
    "name": "ipython",
    "version": 3
   },
   "file_extension": ".py",
   "mimetype": "text/x-python",
   "name": "python",
   "nbconvert_exporter": "python",
   "pygments_lexer": "ipython3",
   "version": "3.6.9"
  }
 },
 "nbformat": 4,
 "nbformat_minor": 2
}
